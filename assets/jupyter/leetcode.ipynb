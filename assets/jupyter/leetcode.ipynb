{
 "cells": [
  {
   "cell_type": "markdown",
   "metadata": {},
   "source": [
    "<center> Leetcode Practice </center>"
   ]
  },
  {
   "cell_type": "markdown",
   "metadata": {},
   "source": [
    "### [Array Card](https://leetcode.com/explore/learn/card/fun-with-arrays/)"
   ]
  },
  {
   "cell_type": "code",
   "execution_count": null,
   "metadata": {},
   "outputs": [],
   "source": [
    "# [LC485] https://leetcode.com/problems/max-consecutive-ones/description/\n",
    "\n",
    "# One pass\n",
    "\n",
    "def findMaxConsecutiveOnes(self, nums: List[int]) -> int:\n",
    "    count = max_count = 0\n",
    "    for num in nums:\n",
    "        if num == 1:\n",
    "            # Increment the count of 1's by one.\n",
    "            count += 1\n",
    "        else:\n",
    "            # Find the maximum till now.\n",
    "            max_count = max(max_count, count)\n",
    "            # Reset count of 1.\n",
    "            count = 0\n",
    "    return max(max_count, count)"
   ]
  },
  {
   "cell_type": "code",
   "execution_count": null,
   "metadata": {},
   "outputs": [],
   "source": []
  }
 ],
 "metadata": {
  "kernelspec": {
   "display_name": "Python 3",
   "language": "python",
   "name": "python3"
  },
  "language_info": {
   "codemirror_mode": {
    "name": "ipython",
    "version": 3
   },
   "file_extension": ".py",
   "mimetype": "text/x-python",
   "name": "python",
   "nbconvert_exporter": "python",
   "pygments_lexer": "ipython3",
   "version": "3.12.2"
  }
 },
 "nbformat": 4,
 "nbformat_minor": 2
}
