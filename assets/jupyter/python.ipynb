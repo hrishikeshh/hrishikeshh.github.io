{
 "cells": [
  {
   "cell_type": "markdown",
   "metadata": {},
   "source": [
    "<center> <b> Python (Tips, Tricks & Template) </b></center>"
   ]
  },
  {
   "cell_type": "markdown",
   "metadata": {},
   "source": [
    "#### List operations"
   ]
  },
  {
   "cell_type": "code",
   "execution_count": 2,
   "metadata": {},
   "outputs": [
    {
     "name": "stdout",
     "output_type": "stream",
     "text": [
      "list1:  [1]\n"
     ]
    }
   ],
   "source": [
    "# initialization\n",
    "\n",
    "list1 = [1]\n",
    "list2 = list(range(10))\n",
    "list3 = [*range(5, 100, 3)]\n",
    "\n",
    "print(\"list1: \", list1)"
   ]
  },
  {
   "cell_type": "code",
   "execution_count": 3,
   "metadata": {},
   "outputs": [
    {
     "name": "stdout",
     "output_type": "stream",
     "text": [
      "[1, 10, 5, 100, 200]\n"
     ]
    }
   ],
   "source": [
    "# append\n",
    "list1.append(10)\n",
    "list1 += [5]\n",
    "list1.extend([100, 200])\n",
    "\n",
    "print(list1)"
   ]
  },
  {
   "cell_type": "code",
   "execution_count": 4,
   "metadata": {},
   "outputs": [],
   "source": [
    "# insert \n",
    "list1.insert(232,0)\n",
    "\n",
    "# extra\n",
    "# list1.index(1)        # if not found, ValueError\n",
    "list1.count(3)\n",
    "# list1.remove(1)     # if not found, ValueError\n",
    "list1.sort()\n",
    "list1.reverse()"
   ]
  },
  {
   "cell_type": "markdown",
   "metadata": {},
   "source": [
    "##### List Applications/Questions"
   ]
  },
  {
   "cell_type": "code",
   "execution_count": 5,
   "metadata": {},
   "outputs": [
    {
     "name": "stdout",
     "output_type": "stream",
     "text": [
      "9\n"
     ]
    }
   ],
   "source": [
    "ls = [*range(10)]\n",
    "\n",
    "for i in range(len(ls)):\n",
    "    if i < len(ls)-1 and ls[i] > ls[i+1] :\n",
    "        print(i)\n",
    "\n",
    "print(i)"
   ]
  },
  {
   "cell_type": "markdown",
   "metadata": {},
   "source": [
    "## Dictionary\n",
    "\n",
    "- Implements an associative array abstract data type, a structure that can map keys to values\n",
    "- Variations: **defaultdict, Counter, OrderedDict**"
   ]
  },
  {
   "cell_type": "code",
   "execution_count": 6,
   "metadata": {},
   "outputs": [],
   "source": [
    "from collections import defaultdict, Counter, OrderedDict\n",
    "from operator import itemgetter\n",
    "# init\n",
    "dict1 = {'c':3, 'a':1, 'b':10, 'f':4}\n",
    "\n",
    "# iteration\n",
    "for k, v in dict1.items():\n",
    "    # check if key exists\n",
    "    if k in dict1:\n",
    "        # get and update\n",
    "        dict1[k] = v + 1\n",
    "        "
   ]
  },
  {
   "cell_type": "code",
   "execution_count": 7,
   "metadata": {},
   "outputs": [
    {
     "name": "stdout",
     "output_type": "stream",
     "text": [
      "None\n",
      "{'c': 4, 'a': 2, 'b': 11, 'f': 5, 'd': 5}\n"
     ]
    }
   ],
   "source": [
    "# get and set by default\n",
    "print(dict1.get('d'))\n",
    "\n",
    "dict1.setdefault('d',5)\n",
    "\n",
    "print(dict1)"
   ]
  },
  {
   "cell_type": "code",
   "execution_count": 8,
   "metadata": {},
   "outputs": [
    {
     "name": "stdout",
     "output_type": "stream",
     "text": [
      "{'b': 11, 'f': 5, 'd': 5, 'c': 4, 'a': 2}\n",
      "{'c': 4, 'a': 2, 'b': 11, 'f': 5, 'd': 5}\n"
     ]
    }
   ],
   "source": [
    "# Sorted by values\n",
    "\n",
    "sorted_dict = dict(sorted(dict1.items(), key= lambda x:x[1], reverse=True))\n",
    "\n",
    "# here x[0] is key and x[1] is value \n",
    "print(sorted_dict)\n",
    "\n",
    "\n",
    "# pop value\n",
    "# dict1.pop('f')    # throw KeyError\n",
    "print(dict1)"
   ]
  },
  {
   "cell_type": "code",
   "execution_count": 9,
   "metadata": {},
   "outputs": [
    {
     "name": "stdout",
     "output_type": "stream",
     "text": [
      "Default Dic: defaultdict(<class 'int'>, {'a': 1})\n",
      "Default Dic: defaultdict(<class 'list'>, {'anyRandomKey': ['Values'], 'b': [[3, 'something', 4]], 'c': [123]})\n"
     ]
    }
   ],
   "source": [
    "# Default Dictionary provide default value of 0 for keys \n",
    "# Do not throw any KeyError\n",
    "\n",
    "dict2 = defaultdict(int)\n",
    "\n",
    "dict2['a'] += 1\n",
    "print(\"Default Dic:\", dict2)\n",
    "\n",
    "\n",
    "dict3 = defaultdict(list)\n",
    "\n",
    "dict3['anyRandomKey'] += [\"Values\"]\n",
    "dict3['b'].append([3,\"something\",4])\n",
    "dict3['c'] += [123]\n",
    "print(\"Default Dic:\", dict3)"
   ]
  },
  {
   "cell_type": "code",
   "execution_count": 10,
   "metadata": {},
   "outputs": [
    {
     "name": "stdout",
     "output_type": "stream",
     "text": [
      "Counter({'a': 2, '10': 1, 'c': 1, 'd': 1})\n",
      "<itertools.chain object at 0x000001CB04512050>\n"
     ]
    }
   ],
   "source": [
    "# Counter: used for keep track of count of keys\n",
    "\n",
    "list_of_anything = ['10', 'a', 'c', 'd', 'a']\n",
    "\n",
    "counter = Counter(list_of_anything)\n",
    "print(counter)\n",
    "\n",
    "print(counter.elements())   # iterator\n",
    "\n",
    "counter.most_common(1)  # list of n common elements\n",
    "\n",
    "# update\n",
    "counter.update({'a': 1, 'b': 2})"
   ]
  },
  {
   "cell_type": "code",
   "execution_count": 11,
   "metadata": {},
   "outputs": [
    {
     "data": {
      "text/plain": [
       "Counter({'b': 1})"
      ]
     },
     "execution_count": 11,
     "metadata": {},
     "output_type": "execute_result"
    }
   ],
   "source": [
    "# Counter operations\n",
    "\n",
    "# add\n",
    "Counter('abbb') + Counter('bcc')\n",
    "\n",
    "# subtract, but keep only results with positive counts.\n",
    "Counter('abbb') - Counter('bcc')\n",
    "\n",
    "# union, the maximum of value in either of the input counters.\n",
    "Counter('abbb') | Counter('bcc')\n",
    "\n",
    "# intersection, the minimum of corresponding counts.\n",
    "Counter('abbb') & Counter('bcc')"
   ]
  },
  {
   "cell_type": "code",
   "execution_count": 12,
   "metadata": {},
   "outputs": [],
   "source": [
    "order_dict = OrderedDict(dict1)\n",
    "\n",
    "order_dict.move_to_end('a', last=False)"
   ]
  },
  {
   "cell_type": "markdown",
   "metadata": {},
   "source": [
    "##### Dictionary Applications"
   ]
  },
  {
   "cell_type": "code",
   "execution_count": 13,
   "metadata": {},
   "outputs": [],
   "source": [
    "# Applications\n",
    "\n"
   ]
  }
 ],
 "metadata": {
  "kernelspec": {
   "display_name": "Python 3",
   "language": "python",
   "name": "python3"
  },
  "language_info": {
   "codemirror_mode": {
    "name": "ipython",
    "version": 3
   },
   "file_extension": ".py",
   "mimetype": "text/x-python",
   "name": "python",
   "nbconvert_exporter": "python",
   "pygments_lexer": "ipython3",
   "version": "3.12.2"
  }
 },
 "nbformat": 4,
 "nbformat_minor": 2
}
